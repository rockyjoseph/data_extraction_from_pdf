{
 "cells": [
  {
   "cell_type": "code",
   "execution_count": 1,
   "id": "869a157f",
   "metadata": {},
   "outputs": [
    {
     "name": "stderr",
     "output_type": "stream",
     "text": [
      "C:\\Users\\Rocky\\anaconda3\\lib\\site-packages\\pandas\\core\\computation\\expressions.py:21: UserWarning: Pandas requires version '2.8.4' or newer of 'numexpr' (version '2.8.1' currently installed).\n",
      "  from pandas.core.computation.check import NUMEXPR_INSTALLED\n",
      "C:\\Users\\Rocky\\anaconda3\\lib\\site-packages\\pandas\\core\\arrays\\masked.py:60: UserWarning: Pandas requires version '1.3.6' or newer of 'bottleneck' (version '1.3.4' currently installed).\n",
      "  from pandas.core import (\n"
     ]
    }
   ],
   "source": [
    "import os\n",
    "import PyPDF2\n",
    "import re\n",
    "import pandas as pd\n",
    "import numpy as np"
   ]
  },
  {
   "cell_type": "code",
   "execution_count": 2,
   "id": "ad45b8d2",
   "metadata": {},
   "outputs": [],
   "source": [
    "reader = PyPDF2.PdfReader(\"sample_problem.pdf\")\n",
    "num_pg = len(reader.pages)\n",
    "\n",
    "#start_no = 2\n",
    "#end_no = num_pg - 1\n",
    "\n",
    "for pg in range(0, 2):\n",
    "    page = reader.pages[pg]\n",
    "    try:\n",
    "        file = open('pdf_content.txt','a')\n",
    "    except FileNotFoundError:\n",
    "        file = open('pdf_content.txt','w')\n",
    "        \n",
    "    file.write(page.extract_text())\n",
    "    file.close()\n",
    "    \n",
    "out_file = open('pdf_line_content.txt','w')\n",
    "new_file = open('pdf_content.txt','rb')\n",
    "\n",
    "s = new_file.read()\n",
    "strn = re.split(' No', str(s))\n",
    "out_file.write('\\n'.join(strn))\n",
    "\n",
    "new_file.close()\n",
    "out_file.close()\n",
    "\n",
    "out_files = open('pdf_line_content.txt','r')\n",
    "\n",
    "row = []\n",
    "\n",
    "for eachline in out_files.readlines():\n",
    "    name = re.findall(r'.\\dName\\s:\\s(.*?)\\s', eachline)\n",
    "    relative = re.findall(r'\\sName\\s:\\s(.*?)\\s\\s\\d\\d', eachline)\n",
    "    gender = re.findall(r'.Gender\\s:\\s(.*?)Age', eachline)\n",
    "    age = re.findall(r'[A-Z]*\\s\\s(\\d\\d)\\s.\\w', eachline)\n",
    "    h_no = re.findall(r'\\s:\\s(.*?)Gender', eachline)\n",
    "    \n",
    "    row.append((name, relative, gender, age, h_no))\n",
    "    \n",
    "out_files.close()\n",
    "os.remove('pdf_content.txt')\n",
    "os.remove('pdf_line_content.txt')\n",
    "\n",
    "df = pd.DataFrame(row, columns = ['Name', 'Relative Name','Gender','Age','House No.'])\n",
    "\n",
    "for col in df.columns:\n",
    "    df[col] = df[col].apply(lambda i: ''.join(i))\n",
    "    \n",
    "df.replace('', np.nan, inplace=True)\n",
    "df.dropna(how='all', inplace=True)\n",
    "\n",
    "writer = pd.ExcelWriter('output.xlsx')\n",
    "df.to_excel(writer, 'Content')\n",
    "\n",
    "writer.close()"
   ]
  },
  {
   "cell_type": "code",
   "execution_count": null,
   "id": "390c53f2",
   "metadata": {},
   "outputs": [],
   "source": []
  }
 ],
 "metadata": {
  "kernelspec": {
   "display_name": "Python 3 (ipykernel)",
   "language": "python",
   "name": "python3"
  },
  "language_info": {
   "codemirror_mode": {
    "name": "ipython",
    "version": 3
   },
   "file_extension": ".py",
   "mimetype": "text/x-python",
   "name": "python",
   "nbconvert_exporter": "python",
   "pygments_lexer": "ipython3",
   "version": "3.9.12"
  }
 },
 "nbformat": 4,
 "nbformat_minor": 5
}
